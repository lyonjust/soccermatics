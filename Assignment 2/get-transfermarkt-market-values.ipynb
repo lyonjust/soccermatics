{
 "cells": [
  {
   "cell_type": "code",
   "execution_count": 1,
   "metadata": {},
   "outputs": [],
   "source": [
    "from bs4 import BeautifulSoup\n",
    "import requests\n",
    "import pandas as pd\n",
    "import re\n",
    "import datetime as dt"
   ]
  },
  {
   "cell_type": "code",
   "execution_count": 2,
   "metadata": {},
   "outputs": [],
   "source": [
    "SUMMER_2018_DATE = dt.date(2018, 6, 1)"
   ]
  },
  {
   "cell_type": "code",
   "execution_count": 3,
   "metadata": {},
   "outputs": [],
   "source": [
    "base_url = 'https://www.transfermarkt.com/a/marktwertverlauf/spieler/' # \"a\" is a placeholder, can be anything, technically is player name but doesn't matter"
   ]
  },
  {
   "cell_type": "code",
   "execution_count": 4,
   "metadata": {},
   "outputs": [],
   "source": [
    "headers = {'User-Agent': \n",
    "       'Mozilla/5.0 (X11; Linux x86_64) AppleWebKit/537.36 (KHTML, like Gecko) Chrome/47.0.2526.106 Safari/537.36'}"
   ]
  },
  {
   "cell_type": "code",
   "execution_count": 5,
   "metadata": {},
   "outputs": [],
   "source": [
    "transfermarkt_ids = [148153, 82873, 209212] # sample player IDs for Gross, March and Dunk"
   ]
  },
  {
   "cell_type": "code",
   "execution_count": 6,
   "metadata": {},
   "outputs": [],
   "source": [
    "columns = ['player_name', 'transfermarkt_player_id', 'date', 'market_value_in_gbp']"
   ]
  },
  {
   "cell_type": "code",
   "execution_count": 7,
   "metadata": {},
   "outputs": [],
   "source": [
    "def get_market_value_history_of_player(transfermarkt_player_id, maximum_date=None, as_pandas=False):\n",
    "    tree = requests.get(base_url + str(transfermarkt_player_id), headers=headers)\n",
    "    soup = BeautifulSoup(tree.content, 'html.parser')\n",
    "    \n",
    "    script = soup.find('script', text=re.compile('Highcharts.Chart')).text\n",
    "    player_name = soup.find('title').text.partition(' - ')[0]\n",
    "    \n",
    "    chart_data = script.split(\"'data':[\")[1]\n",
    "    ending_string = '}}]'\n",
    "    chart_data = chart_data[:chart_data.find(ending_string) + 1]\n",
    "\n",
    "    delim = '},'\n",
    "    market_values = [eval(e + delim[0]) for e in chart_data.split(delim) if e[:5] == \"{'y':\"]\n",
    "\n",
    "    market_vals_clean = [(player_name, transfermarkt_player_id, dt.date.fromtimestamp(int(str(data_point['x'])[:-3])), data_point['y']) for data_point in market_values]\n",
    "\n",
    "    if maximum_date:\n",
    "        market_vals_clean = [[record for record in market_vals_clean if record[2] < maximum_date][-1]]\n",
    "\n",
    "    if as_pandas:\n",
    "        market_vals_clean = pd.DataFrame(market_vals_clean, columns=columns)\n",
    "\n",
    "    return market_vals_clean"
   ]
  },
  {
   "cell_type": "code",
   "execution_count": 8,
   "metadata": {},
   "outputs": [],
   "source": [
    "all_player_market_values = []\n",
    "\n",
    "for id in transfermarkt_ids:\n",
    "    all_player_market_values.extend(get_market_value_history_of_player(transfermarkt_player_id=id, maximum_date=SUMMER_2018_DATE, as_pandas=False))"
   ]
  },
  {
   "cell_type": "code",
   "execution_count": 9,
   "metadata": {},
   "outputs": [
    {
     "data": {
      "text/html": [
       "<div>\n",
       "<style scoped>\n",
       "    .dataframe tbody tr th:only-of-type {\n",
       "        vertical-align: middle;\n",
       "    }\n",
       "\n",
       "    .dataframe tbody tr th {\n",
       "        vertical-align: top;\n",
       "    }\n",
       "\n",
       "    .dataframe thead th {\n",
       "        text-align: right;\n",
       "    }\n",
       "</style>\n",
       "<table border=\"1\" class=\"dataframe\">\n",
       "  <thead>\n",
       "    <tr style=\"text-align: right;\">\n",
       "      <th></th>\n",
       "      <th>player_name</th>\n",
       "      <th>transfermarkt_player_id</th>\n",
       "      <th>date</th>\n",
       "      <th>market_value_in_gbp</th>\n",
       "    </tr>\n",
       "  </thead>\n",
       "  <tbody>\n",
       "    <tr>\n",
       "      <th>0</th>\n",
       "      <td>Lewis Dunk</td>\n",
       "      <td>148153</td>\n",
       "      <td>2018-05-28</td>\n",
       "      <td>10000000</td>\n",
       "    </tr>\n",
       "    <tr>\n",
       "      <th>1</th>\n",
       "      <td>Pascal Groß</td>\n",
       "      <td>82873</td>\n",
       "      <td>2018-05-28</td>\n",
       "      <td>10000000</td>\n",
       "    </tr>\n",
       "    <tr>\n",
       "      <th>2</th>\n",
       "      <td>Solly March</td>\n",
       "      <td>209212</td>\n",
       "      <td>2018-05-28</td>\n",
       "      <td>5000000</td>\n",
       "    </tr>\n",
       "  </tbody>\n",
       "</table>\n",
       "</div>"
      ],
      "text/plain": [
       "   player_name  transfermarkt_player_id        date  market_value_in_gbp\n",
       "0   Lewis Dunk                   148153  2018-05-28             10000000\n",
       "1  Pascal Groß                    82873  2018-05-28             10000000\n",
       "2  Solly March                   209212  2018-05-28              5000000"
      ]
     },
     "execution_count": 9,
     "metadata": {},
     "output_type": "execute_result"
    }
   ],
   "source": [
    "df_all_player_market_values = pd.DataFrame(all_player_market_values, columns=columns)\n",
    "df_all_player_market_values"
   ]
  }
 ],
 "metadata": {
  "kernelspec": {
   "display_name": "Python 3.8.13 ('py38')",
   "language": "python",
   "name": "python3"
  },
  "language_info": {
   "codemirror_mode": {
    "name": "ipython",
    "version": 3
   },
   "file_extension": ".py",
   "mimetype": "text/x-python",
   "name": "python",
   "nbconvert_exporter": "python",
   "pygments_lexer": "ipython3",
   "version": "3.8.13"
  },
  "orig_nbformat": 4,
  "vscode": {
   "interpreter": {
    "hash": "2373e725c73bda607b492b4fa1be2d67a714ba72ffe79f2223f8c35200ab0890"
   }
  }
 },
 "nbformat": 4,
 "nbformat_minor": 2
}
